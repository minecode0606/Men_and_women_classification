{
  "nbformat": 4,
  "nbformat_minor": 0,
  "metadata": {
    "colab": {
      "name": "neural_network_classification.ipynb",
      "provenance": [],
      "authorship_tag": "ABX9TyNqkndphh/0LVGv/2bwQgZJ",
      "include_colab_link": true
    },
    "kernelspec": {
      "name": "python3",
      "display_name": "Python 3"
    },
    "language_info": {
      "name": "python"
    }
  },
  "cells": [
    {
      "cell_type": "markdown",
      "metadata": {
        "id": "view-in-github",
        "colab_type": "text"
      },
      "source": [
        "<a href=\"https://colab.research.google.com/github/minecode0606/Men_and_women_classification/blob/main/neural_network_classification.ipynb\" target=\"_parent\"><img src=\"https://colab.research.google.com/assets/colab-badge.svg\" alt=\"Open In Colab\"/></a>"
      ]
    },
    {
      "cell_type": "markdown",
      "metadata": {
        "id": "8l_IZFzhWY14"
      },
      "source": [
        "# Keras의 인공신경망을 사용하여 더 높은 정확도의 모델을 훈련합니다."
      ]
    },
    {
      "cell_type": "code",
      "metadata": {
        "id": "jeZKS3VLU9sQ"
      },
      "source": [
        "import pandas as pd\n",
        "import numpy as np\n",
        "import matplotlib.pyplot as plt\n",
        "\n",
        "from sklearn.model_selection import train_test_split\n",
        "\n",
        "from tensorflow import keras"
      ],
      "execution_count": 64,
      "outputs": []
    },
    {
      "cell_type": "code",
      "metadata": {
        "id": "JDEWAzU5WYNg"
      },
      "source": [
        "total_df = pd.read_csv('/content/weight-height.csv')"
      ],
      "execution_count": 65,
      "outputs": []
    },
    {
      "cell_type": "code",
      "metadata": {
        "colab": {
          "base_uri": "https://localhost:8080/"
        },
        "id": "Mw06Ui0oWVbK",
        "outputId": "3c63914a-e4e5-4ae5-b40e-caaa25704fa0"
      },
      "source": [
        "persion_input = total_df[[\"Height\", \"Weight\"]].to_numpy()\n",
        "print(persion_input[:5])"
      ],
      "execution_count": 66,
      "outputs": [
        {
          "output_type": "stream",
          "text": [
            "[[ 73.84701702 241.89356318]\n",
            " [ 68.78190405 162.31047252]\n",
            " [ 74.11010539 212.74085556]\n",
            " [ 71.7309784  220.0424703 ]\n",
            " [ 69.88179586 206.34980062]]\n"
          ],
          "name": "stdout"
        }
      ]
    },
    {
      "cell_type": "code",
      "metadata": {
        "id": "sdV-XMh_XBST"
      },
      "source": [
        "persion_target = list(total_df['Gender'])\n",
        "index = 0\n",
        "for i in persion_target:\n",
        "    if i == \"Male\":\n",
        "        persion_target[index] = 0\n",
        "    else:\n",
        "        persion_target[index] = 1\n",
        "    index += 1\n"
      ],
      "execution_count": 67,
      "outputs": []
    },
    {
      "cell_type": "code",
      "metadata": {
        "id": "SdSKrewxXEwT"
      },
      "source": [
        "train_scaled, val_scaled, train_target, val_target = train_test_split(persion_input, persion_target, random_state = 45)"
      ],
      "execution_count": 68,
      "outputs": []
    },
    {
      "cell_type": "code",
      "metadata": {
        "colab": {
          "base_uri": "https://localhost:8080/"
        },
        "id": "2g-CL4VhXPhb",
        "outputId": "3d905828-3931-42c0-f222-29077af4934f"
      },
      "source": [
        "print([train_target[i] for i in range(10)])"
      ],
      "execution_count": 69,
      "outputs": [
        {
          "output_type": "stream",
          "text": [
            "[1, 1, 0, 0, 1, 0, 0, 1, 0, 0]\n"
          ],
          "name": "stdout"
        }
      ]
    },
    {
      "cell_type": "code",
      "metadata": {
        "colab": {
          "base_uri": "https://localhost:8080/"
        },
        "id": "F1cL1qIpYw58",
        "outputId": "36f5231b-f0d2-4f2b-bd50-7ab83ce04725"
      },
      "source": [
        "print(np.unique(train_target, return_counts=True))"
      ],
      "execution_count": 70,
      "outputs": [
        {
          "output_type": "stream",
          "text": [
            "(array([0, 1]), array([3749, 3751]))\n"
          ],
          "name": "stdout"
        }
      ]
    },
    {
      "cell_type": "code",
      "metadata": {
        "id": "tnLv1MQoY-AA"
      },
      "source": [
        "dense = keras.layers.Dense(10, activation='sigmoid', input_shape = (2,))"
      ],
      "execution_count": 71,
      "outputs": []
    },
    {
      "cell_type": "code",
      "metadata": {
        "id": "9a8e48G_aCF3"
      },
      "source": [
        "model = keras.Sequential(dense)"
      ],
      "execution_count": 72,
      "outputs": []
    },
    {
      "cell_type": "code",
      "metadata": {
        "id": "lK9SZ0vhau86"
      },
      "source": [
        "model.compile(loss='sparse_categorical_crossentropy', metrics='accuracy')"
      ],
      "execution_count": 73,
      "outputs": []
    },
    {
      "cell_type": "code",
      "metadata": {
        "id": "ZvCj2sf9bceM"
      },
      "source": [
        "train_scaled = np.array(train_scaled)\n",
        "train_target = np.array(train_target)"
      ],
      "execution_count": 74,
      "outputs": []
    },
    {
      "cell_type": "code",
      "metadata": {
        "colab": {
          "base_uri": "https://localhost:8080/"
        },
        "id": "swJmmw0lbMLg",
        "outputId": "dc8122e2-554b-47dd-aafb-8ef4fbbd17b0"
      },
      "source": [
        "model.fit(train_scaled, train_target, epochs=50)"
      ],
      "execution_count": 80,
      "outputs": [
        {
          "output_type": "stream",
          "text": [
            "Epoch 1/50\n",
            "235/235 [==============================] - 0s 913us/step - loss: 0.2196 - accuracy: 0.9100\n",
            "Epoch 2/50\n",
            "235/235 [==============================] - 0s 897us/step - loss: 0.2194 - accuracy: 0.9113\n",
            "Epoch 3/50\n",
            "235/235 [==============================] - 0s 926us/step - loss: 0.2199 - accuracy: 0.9093\n",
            "Epoch 4/50\n",
            "235/235 [==============================] - 0s 947us/step - loss: 0.2187 - accuracy: 0.9121\n",
            "Epoch 5/50\n",
            "235/235 [==============================] - 0s 947us/step - loss: 0.2175 - accuracy: 0.9135\n",
            "Epoch 6/50\n",
            "235/235 [==============================] - 0s 1ms/step - loss: 0.2197 - accuracy: 0.9088\n",
            "Epoch 7/50\n",
            "235/235 [==============================] - 0s 972us/step - loss: 0.2182 - accuracy: 0.9109\n",
            "Epoch 8/50\n",
            "235/235 [==============================] - 0s 964us/step - loss: 0.2180 - accuracy: 0.9112\n",
            "Epoch 9/50\n",
            "235/235 [==============================] - 0s 930us/step - loss: 0.2188 - accuracy: 0.9121\n",
            "Epoch 10/50\n",
            "235/235 [==============================] - 0s 972us/step - loss: 0.2198 - accuracy: 0.9095\n",
            "Epoch 11/50\n",
            "235/235 [==============================] - 0s 981us/step - loss: 0.2189 - accuracy: 0.9107\n",
            "Epoch 12/50\n",
            "235/235 [==============================] - 0s 1ms/step - loss: 0.2198 - accuracy: 0.9096\n",
            "Epoch 13/50\n",
            "235/235 [==============================] - 0s 951us/step - loss: 0.2198 - accuracy: 0.9108\n",
            "Epoch 14/50\n",
            "235/235 [==============================] - 0s 1ms/step - loss: 0.2186 - accuracy: 0.9101\n",
            "Epoch 15/50\n",
            "235/235 [==============================] - 0s 1ms/step - loss: 0.2206 - accuracy: 0.9095\n",
            "Epoch 16/50\n",
            "235/235 [==============================] - 0s 985us/step - loss: 0.2190 - accuracy: 0.9112\n",
            "Epoch 17/50\n",
            "235/235 [==============================] - 0s 966us/step - loss: 0.2193 - accuracy: 0.9119\n",
            "Epoch 18/50\n",
            "235/235 [==============================] - 0s 925us/step - loss: 0.2195 - accuracy: 0.9107\n",
            "Epoch 19/50\n",
            "235/235 [==============================] - 0s 1ms/step - loss: 0.2192 - accuracy: 0.9113\n",
            "Epoch 20/50\n",
            "235/235 [==============================] - 0s 1ms/step - loss: 0.2194 - accuracy: 0.9123\n",
            "Epoch 21/50\n",
            "235/235 [==============================] - 0s 976us/step - loss: 0.2186 - accuracy: 0.9112\n",
            "Epoch 22/50\n",
            "235/235 [==============================] - 0s 949us/step - loss: 0.2196 - accuracy: 0.9107\n",
            "Epoch 23/50\n",
            "235/235 [==============================] - 0s 967us/step - loss: 0.2186 - accuracy: 0.9119\n",
            "Epoch 24/50\n",
            "235/235 [==============================] - 0s 938us/step - loss: 0.2196 - accuracy: 0.9119\n",
            "Epoch 25/50\n",
            "235/235 [==============================] - 0s 1ms/step - loss: 0.2195 - accuracy: 0.9095\n",
            "Epoch 26/50\n",
            "235/235 [==============================] - 0s 976us/step - loss: 0.2197 - accuracy: 0.9111\n",
            "Epoch 27/50\n",
            "235/235 [==============================] - 0s 897us/step - loss: 0.2190 - accuracy: 0.9101\n",
            "Epoch 28/50\n",
            "235/235 [==============================] - 0s 957us/step - loss: 0.2199 - accuracy: 0.9108\n",
            "Epoch 29/50\n",
            "235/235 [==============================] - 0s 908us/step - loss: 0.2180 - accuracy: 0.9124\n",
            "Epoch 30/50\n",
            "235/235 [==============================] - 0s 973us/step - loss: 0.2194 - accuracy: 0.9111\n",
            "Epoch 31/50\n",
            "235/235 [==============================] - 0s 1ms/step - loss: 0.2195 - accuracy: 0.9107\n",
            "Epoch 32/50\n",
            "235/235 [==============================] - 0s 917us/step - loss: 0.2191 - accuracy: 0.9113\n",
            "Epoch 33/50\n",
            "235/235 [==============================] - 0s 968us/step - loss: 0.2188 - accuracy: 0.9104\n",
            "Epoch 34/50\n",
            "235/235 [==============================] - 0s 968us/step - loss: 0.2202 - accuracy: 0.9099\n",
            "Epoch 35/50\n",
            "235/235 [==============================] - 0s 952us/step - loss: 0.2191 - accuracy: 0.9127\n",
            "Epoch 36/50\n",
            "235/235 [==============================] - 0s 991us/step - loss: 0.2192 - accuracy: 0.9133\n",
            "Epoch 37/50\n",
            "235/235 [==============================] - 0s 922us/step - loss: 0.2197 - accuracy: 0.9107\n",
            "Epoch 38/50\n",
            "235/235 [==============================] - 0s 953us/step - loss: 0.2197 - accuracy: 0.9097\n",
            "Epoch 39/50\n",
            "235/235 [==============================] - 0s 939us/step - loss: 0.2191 - accuracy: 0.9099\n",
            "Epoch 40/50\n",
            "235/235 [==============================] - 0s 944us/step - loss: 0.2208 - accuracy: 0.9100\n",
            "Epoch 41/50\n",
            "235/235 [==============================] - 0s 983us/step - loss: 0.2187 - accuracy: 0.9123\n",
            "Epoch 42/50\n",
            "235/235 [==============================] - 0s 959us/step - loss: 0.2200 - accuracy: 0.9109\n",
            "Epoch 43/50\n",
            "235/235 [==============================] - 0s 1ms/step - loss: 0.2188 - accuracy: 0.9113\n",
            "Epoch 44/50\n",
            "235/235 [==============================] - 0s 945us/step - loss: 0.2192 - accuracy: 0.9108\n",
            "Epoch 45/50\n",
            "235/235 [==============================] - 0s 971us/step - loss: 0.2200 - accuracy: 0.9112\n",
            "Epoch 46/50\n",
            "235/235 [==============================] - 0s 941us/step - loss: 0.2197 - accuracy: 0.9108\n",
            "Epoch 47/50\n",
            "235/235 [==============================] - 0s 980us/step - loss: 0.2188 - accuracy: 0.9117\n",
            "Epoch 48/50\n",
            "235/235 [==============================] - 0s 921us/step - loss: 0.2188 - accuracy: 0.9127\n",
            "Epoch 49/50\n",
            "235/235 [==============================] - 0s 919us/step - loss: 0.2203 - accuracy: 0.9131\n",
            "Epoch 50/50\n",
            "235/235 [==============================] - 0s 1ms/step - loss: 0.2200 - accuracy: 0.9100\n"
          ],
          "name": "stdout"
        },
        {
          "output_type": "execute_result",
          "data": {
            "text/plain": [
              "<tensorflow.python.keras.callbacks.History at 0x7f937b3c57d0>"
            ]
          },
          "metadata": {
            "tags": []
          },
          "execution_count": 80
        }
      ]
    },
    {
      "cell_type": "code",
      "metadata": {
        "colab": {
          "base_uri": "https://localhost:8080/"
        },
        "id": "YmdCcOcBcl-X",
        "outputId": "cdb6bddf-daa8-407d-bcf4-15957069a2b0"
      },
      "source": [
        "val_scaled = np.array(val_scaled)\n",
        "val_target = np.array(val_target)\n",
        "\n",
        "model.evaluate(val_scaled, val_target)"
      ],
      "execution_count": 81,
      "outputs": [
        {
          "output_type": "stream",
          "text": [
            "79/79 [==============================] - 0s 897us/step - loss: 0.1962 - accuracy: 0.9288\n"
          ],
          "name": "stdout"
        },
        {
          "output_type": "execute_result",
          "data": {
            "text/plain": [
              "[0.19616512954235077, 0.9287999868392944]"
            ]
          },
          "metadata": {
            "tags": []
          },
          "execution_count": 81
        }
      ]
    },
    {
      "cell_type": "code",
      "metadata": {
        "id": "cI_R7TSeepfI"
      },
      "source": [
        "model.save_weights('/content/Height_body_classification_neural_network.h5')"
      ],
      "execution_count": 83,
      "outputs": []
    }
  ]
}
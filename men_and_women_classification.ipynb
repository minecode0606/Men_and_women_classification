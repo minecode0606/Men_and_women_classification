{
 "cells": [
  {
   "cell_type": "markdown",
   "source": [
    "# Knn 알고리즘을 사용하여 남성인지 여성인지 분류합니다"
   ],
   "metadata": {
    "collapsed": false,
    "pycharm": {
     "name": "#%% md\n"
    }
   }
  },
  {
   "cell_type": "markdown",
   "source": [
    "## 데이터준비"
   ],
   "metadata": {
    "collapsed": false,
    "pycharm": {
     "name": "#%% md\n"
    }
   }
  },
  {
   "cell_type": "code",
   "execution_count": 41,
   "outputs": [
    {
     "name": "stdout",
     "output_type": "stream",
     "text": [
      "      Gender     Height      Weight\n",
      "0       Male  73.847017  241.893563\n",
      "1       Male  68.781904  162.310473\n",
      "2       Male  74.110105  212.740856\n",
      "3       Male  71.730978  220.042470\n",
      "4       Male  69.881796  206.349801\n",
      "...      ...        ...         ...\n",
      "9995  Female  66.172652  136.777454\n",
      "9996  Female  67.067155  170.867906\n",
      "9997  Female  63.867992  128.475319\n",
      "9998  Female  69.034243  163.852461\n",
      "9999  Female  61.944246  113.649103\n",
      "\n",
      "[10000 rows x 3 columns]\n"
     ]
    }
   ],
   "source": [
    "import pandas as pd\n",
    "\n",
    "filepath = './dataset/weight-height.csv'\n",
    "total_df = pd.read_csv(filepath)\n",
    "sex_full = total_df.to_numpy()\n",
    "print(total_df)"
   ],
   "metadata": {
    "collapsed": false,
    "pycharm": {
     "name": "#%%\n"
    }
   }
  },
  {
   "cell_type": "code",
   "execution_count": 42,
   "outputs": [
    {
     "name": "stdout",
     "output_type": "stream",
     "text": [
      "0       73.847017\n",
      "1       68.781904\n",
      "2       74.110105\n",
      "3       71.730978\n",
      "4       69.881796\n",
      "          ...    \n",
      "4995    68.860062\n",
      "4996    68.973423\n",
      "4997    67.013795\n",
      "4998    71.557718\n",
      "4999    70.351880\n",
      "Name: Height, Length: 5000, dtype: float64\n"
     ]
    }
   ],
   "source": [
    "maleHeight = total_df['Height']\n",
    "maleHeight = maleHeight[:5000]\n",
    "\n",
    "print(maleHeight)\n"
   ],
   "metadata": {
    "collapsed": false,
    "pycharm": {
     "name": "#%%\n"
    }
   }
  },
  {
   "cell_type": "code",
   "execution_count": 43,
   "outputs": [
    {
     "name": "stdout",
     "output_type": "stream",
     "text": [
      "5000    58.910732\n",
      "5001    65.230013\n",
      "5002    63.369004\n",
      "5003    64.479997\n",
      "5004    61.793096\n",
      "          ...    \n",
      "9995    66.172652\n",
      "9996    67.067155\n",
      "9997    63.867992\n",
      "9998    69.034243\n",
      "9999    61.944246\n",
      "Name: Height, Length: 5000, dtype: float64\n"
     ]
    }
   ],
   "source": [
    "femaleHeight = total_df['Height']\n",
    "femaleHeight = femaleHeight[5000:10000]\n",
    "print(femaleHeight)"
   ],
   "metadata": {
    "collapsed": false,
    "pycharm": {
     "name": "#%%\n"
    }
   }
  },
  {
   "cell_type": "code",
   "execution_count": 44,
   "outputs": [
    {
     "name": "stdout",
     "output_type": "stream",
     "text": [
      "0       241.893563\n",
      "1       162.310473\n",
      "2       212.740856\n",
      "3       220.042470\n",
      "4       206.349801\n",
      "           ...    \n",
      "4995    177.131052\n",
      "4996    159.285228\n",
      "4997    199.195400\n",
      "4998    185.905909\n",
      "4999    198.903012\n",
      "Name: Weight, Length: 5000, dtype: float64\n"
     ]
    }
   ],
   "source": [
    "maleWeight = total_df['Weight']\n",
    "maleWeight = maleWeight[:5000]\n",
    "print(maleWeight)"
   ],
   "metadata": {
    "collapsed": false,
    "pycharm": {
     "name": "#%%\n"
    }
   }
  },
  {
   "cell_type": "code",
   "execution_count": 45,
   "outputs": [
    {
     "name": "stdout",
     "output_type": "stream",
     "text": [
      "5000    102.088326\n",
      "5001    141.305823\n",
      "5002    131.041403\n",
      "5003    128.171511\n",
      "5004    129.781407\n",
      "           ...    \n",
      "9995    136.777454\n",
      "9996    170.867906\n",
      "9997    128.475319\n",
      "9998    163.852461\n",
      "9999    113.649103\n",
      "Name: Weight, Length: 5000, dtype: float64\n"
     ]
    }
   ],
   "source": [
    "femaleWeight = total_df['Weight']\n",
    "femaleWeight = femaleWeight[5000:10000]\n",
    "print(femaleWeight)"
   ],
   "metadata": {
    "collapsed": false,
    "pycharm": {
     "name": "#%%\n"
    }
   }
  },
  {
   "cell_type": "code",
   "execution_count": 46,
   "outputs": [],
   "source": [
    "maleWeightlist = []\n",
    "maleHeightlist = []\n",
    "femaleWeightlist = []\n",
    "femaleHeightlist = []\n",
    "for maleWeightlistindex in maleWeight:\n",
    "    maleWeightlist.append(maleWeightlistindex)\n",
    "for maleHeightlistindex in maleHeight:\n",
    "    maleHeightlist.append(maleHeightlistindex)\n",
    "for femaleHeightlistindex in femaleHeight:\n",
    "    femaleHeightlist.append(femaleHeightlistindex)\n",
    "for femaleWeightlistindex in femaleWeight:\n",
    "    femaleWeightlist.append(femaleWeightlistindex)\n"
   ],
   "metadata": {
    "collapsed": false,
    "pycharm": {
     "name": "#%%\n"
    }
   }
  },
  {
   "cell_type": "code",
   "execution_count": 47,
   "outputs": [
    {
     "data": {
      "text/plain": "<Figure size 432x288 with 1 Axes>",
      "image/png": "[encoded data removed]"
     },
     "metadata": {
      "needs_background": "light"
     },
     "output_type": "display_data"
    }
   ],
   "source": [
    "import matplotlib.pyplot as plt\n",
    "\n",
    "plt.scatter(maleHeightlist, maleWeightlist)\n",
    "plt.scatter(femaleHeightlist, femaleWeightlist)\n",
    "plt.xlabel('Height')\n",
    "plt.ylabel('Weight')\n",
    "plt.show()\n",
    "\n"
   ],
   "metadata": {
    "collapsed": false,
    "pycharm": {
     "name": "#%%\n"
    }
   }
  },
  {
   "cell_type": "code",
   "execution_count": 48,
   "outputs": [],
   "source": [
    "height = maleHeightlist + femaleHeightlist\n",
    "weight = maleWeightlist + femaleWeightlist\n",
    "persondata = [[h, w] for h, w in zip(height, weight)]"
   ],
   "metadata": {
    "collapsed": false,
    "pycharm": {
     "name": "#%%\n"
    }
   }
  },
  {
   "cell_type": "code",
   "execution_count": 48,
   "outputs": [],
   "source": [],
   "metadata": {
    "collapsed": false,
    "pycharm": {
     "name": "#%%\n"
    }
   }
  }
 ],
 "metadata": {
  "kernelspec": {
   "display_name": "Python 3",
   "language": "python",
   "name": "python3"
  },
  "language_info": {
   "codemirror_mode": {
    "name": "ipython",
    "version": 2
   },
   "file_extension": ".py",
   "mimetype": "text/x-python",
   "name": "python",
   "nbconvert_exporter": "python",
   "pygments_lexer": "ipython2",
   "version": "2.7.6"
  }
 },
 "nbformat": 4,
 "nbformat_minor": 0
}
{
  "nbformat": 4,
  "nbformat_minor": 0,
  "metadata": {
    "kernelspec": {
      "display_name": "Python 3",
      "language": "python",
      "name": "python3"
    },
    "language_info": {
      "codemirror_mode": {
        "name": "ipython",
        "version": 2
      },
      "file_extension": ".py",
      "mimetype": "text/x-python",
      "name": "python",
      "nbconvert_exporter": "python",
      "pygments_lexer": "ipython2",
      "version": "2.7.6"
    },
    "colab": {
      "name": "men_and_women_classification.ipynb의 사본",
      "provenance": [],
      "toc_visible": true
    }
  },
  "cells": [
    {
      "cell_type": "markdown",
      "metadata": {
        "collapsed": false,
        "pycharm": {
          "name": "#%% md\n"
        },
        "id": "CNU7SePS1Kqw"
      },
      "source": [
        "# LogisticRegression 알고리즘을 사용하여 남성인지 여성인지 분류합니다"
      ]
    },
    {
      "cell_type": "markdown",
      "metadata": {
        "collapsed": false,
        "pycharm": {
          "name": "#%% md\n"
        },
        "id": "jG3hTg4X1Kqy"
      },
      "source": [
        "## 데이터준비"
      ]
    },
    {
      "cell_type": "code",
      "metadata": {
        "id": "HSVYB_qu2nkv"
      },
      "source": [
        "import pandas as pd\n",
        "import matplotlib.pyplot as plt\n",
        "from sklearn.model_selection import train_test_split\n",
        "from sklearn.linear_model import LogisticRegression\n",
        "from sklearn.preprocessing import StandardScaler"
      ],
      "execution_count": 1,
      "outputs": []
    },
    {
      "cell_type": "code",
      "metadata": {
        "pycharm": {
          "name": "#%%\n"
        },
        "id": "BlqCB-M-1Kqz",
        "colab": {
          "base_uri": "https://localhost:8080/",
          "height": 204
        },
        "outputId": "27c5e5fc-bbf2-47a2-bb86-2f07569de291"
      },
      "source": [
        "total_df = pd.read_csv('/content/weight-height.csv')\n",
        "sex_full = total_df.to_numpy()\n",
        "total_df.head()"
      ],
      "execution_count": 2,
      "outputs": [
        {
          "output_type": "execute_result",
          "data": {
            "text/html": [
              "<div>\n",
              "<style scoped>\n",
              "    .dataframe tbody tr th:only-of-type {\n",
              "        vertical-align: middle;\n",
              "    }\n",
              "\n",
              "    .dataframe tbody tr th {\n",
              "        vertical-align: top;\n",
              "    }\n",
              "\n",
              "    .dataframe thead th {\n",
              "        text-align: right;\n",
              "    }\n",
              "</style>\n",
              "<table border=\"1\" class=\"dataframe\">\n",
              "  <thead>\n",
              "    <tr style=\"text-align: right;\">\n",
              "      <th></th>\n",
              "      <th>Gender</th>\n",
              "      <th>Height</th>\n",
              "      <th>Weight</th>\n",
              "    </tr>\n",
              "  </thead>\n",
              "  <tbody>\n",
              "    <tr>\n",
              "      <th>0</th>\n",
              "      <td>Male</td>\n",
              "      <td>73.847017</td>\n",
              "      <td>241.893563</td>\n",
              "    </tr>\n",
              "    <tr>\n",
              "      <th>1</th>\n",
              "      <td>Male</td>\n",
              "      <td>68.781904</td>\n",
              "      <td>162.310473</td>\n",
              "    </tr>\n",
              "    <tr>\n",
              "      <th>2</th>\n",
              "      <td>Male</td>\n",
              "      <td>74.110105</td>\n",
              "      <td>212.740856</td>\n",
              "    </tr>\n",
              "    <tr>\n",
              "      <th>3</th>\n",
              "      <td>Male</td>\n",
              "      <td>71.730978</td>\n",
              "      <td>220.042470</td>\n",
              "    </tr>\n",
              "    <tr>\n",
              "      <th>4</th>\n",
              "      <td>Male</td>\n",
              "      <td>69.881796</td>\n",
              "      <td>206.349801</td>\n",
              "    </tr>\n",
              "  </tbody>\n",
              "</table>\n",
              "</div>"
            ],
            "text/plain": [
              "  Gender     Height      Weight\n",
              "0   Male  73.847017  241.893563\n",
              "1   Male  68.781904  162.310473\n",
              "2   Male  74.110105  212.740856\n",
              "3   Male  71.730978  220.042470\n",
              "4   Male  69.881796  206.349801"
            ]
          },
          "metadata": {
            "tags": []
          },
          "execution_count": 2
        }
      ]
    },
    {
      "cell_type": "markdown",
      "metadata": {
        "id": "SSjwUDTn1YUS"
      },
      "source": [
        "# 모델 학습하기"
      ]
    },
    {
      "cell_type": "code",
      "metadata": {
        "pycharm": {
          "name": "#%%\n"
        },
        "id": "6lipgAyJ1Kq0",
        "colab": {
          "base_uri": "https://localhost:8080/"
        },
        "outputId": "72b649e7-bc74-4876-f710-7dad96875820"
      },
      "source": [
        "maleHeight = total_df['Height']\n",
        "maleHeight = maleHeight[:5000]\n",
        "\n",
        "maleHeight.head()\n"
      ],
      "execution_count": 3,
      "outputs": [
        {
          "output_type": "execute_result",
          "data": {
            "text/plain": [
              "0    73.847017\n",
              "1    68.781904\n",
              "2    74.110105\n",
              "3    71.730978\n",
              "4    69.881796\n",
              "Name: Height, dtype: float64"
            ]
          },
          "metadata": {
            "tags": []
          },
          "execution_count": 3
        }
      ]
    },
    {
      "cell_type": "code",
      "metadata": {
        "pycharm": {
          "name": "#%%\n"
        },
        "id": "AaF0JWP21Kq1",
        "colab": {
          "base_uri": "https://localhost:8080/"
        },
        "outputId": "692dbf07-d47c-4597-fc7f-1f329a77a22c"
      },
      "source": [
        "femaleHeight = total_df['Height']\n",
        "femaleHeight = femaleHeight[5000:10000]\n",
        "femaleHeight.head()"
      ],
      "execution_count": 4,
      "outputs": [
        {
          "output_type": "execute_result",
          "data": {
            "text/plain": [
              "5000    58.910732\n",
              "5001    65.230013\n",
              "5002    63.369004\n",
              "5003    64.479997\n",
              "5004    61.793096\n",
              "Name: Height, dtype: float64"
            ]
          },
          "metadata": {
            "tags": []
          },
          "execution_count": 4
        }
      ]
    },
    {
      "cell_type": "code",
      "metadata": {
        "pycharm": {
          "name": "#%%\n"
        },
        "id": "sOr8faqj1Kq1",
        "colab": {
          "base_uri": "https://localhost:8080/"
        },
        "outputId": "7438966d-591c-45d9-acf9-40ccbe18c21f"
      },
      "source": [
        "maleWeight = total_df['Weight']\n",
        "maleWeight = maleWeight[:5000]\n",
        "maleWeight.head()"
      ],
      "execution_count": 5,
      "outputs": [
        {
          "output_type": "execute_result",
          "data": {
            "text/plain": [
              "0    241.893563\n",
              "1    162.310473\n",
              "2    212.740856\n",
              "3    220.042470\n",
              "4    206.349801\n",
              "Name: Weight, dtype: float64"
            ]
          },
          "metadata": {
            "tags": []
          },
          "execution_count": 5
        }
      ]
    },
    {
      "cell_type": "code",
      "metadata": {
        "pycharm": {
          "name": "#%%\n"
        },
        "id": "V9IBUK-F1Kq1",
        "colab": {
          "base_uri": "https://localhost:8080/"
        },
        "outputId": "0b057f23-9074-4d75-b6da-60ff08ee9d56"
      },
      "source": [
        "femaleWeight = total_df['Weight']\n",
        "femaleWeight = femaleWeight[5000:10000]\n",
        "femaleWeight.head()"
      ],
      "execution_count": 6,
      "outputs": [
        {
          "output_type": "execute_result",
          "data": {
            "text/plain": [
              "5000    102.088326\n",
              "5001    141.305823\n",
              "5002    131.041403\n",
              "5003    128.171511\n",
              "5004    129.781407\n",
              "Name: Weight, dtype: float64"
            ]
          },
          "metadata": {
            "tags": []
          },
          "execution_count": 6
        }
      ]
    },
    {
      "cell_type": "code",
      "metadata": {
        "pycharm": {
          "name": "#%%\n"
        },
        "id": "rP29qzUL1Kq2"
      },
      "source": [
        "maleWeightlist = []\n",
        "maleHeightlist = []\n",
        "femaleWeightlist = []\n",
        "femaleHeightlist = []\n",
        "for maleWeightlistindex in maleWeight:\n",
        "    maleWeightlist.append(maleWeightlistindex)\n",
        "for maleHeightlistindex in maleHeight:\n",
        "    maleHeightlist.append(maleHeightlistindex)\n",
        "for femaleHeightlistindex in femaleHeight:\n",
        "    femaleHeightlist.append(femaleHeightlistindex)\n",
        "for femaleWeightlistindex in femaleWeight:\n",
        "    femaleWeightlist.append(femaleWeightlistindex)"
      ],
      "execution_count": 7,
      "outputs": []
    },
    {
      "cell_type": "code",
      "metadata": {
        "pycharm": {
          "name": "#%%\n"
        },
        "id": "MnimCuxn1Kq3",
        "colab": {
          "base_uri": "https://localhost:8080/",
          "height": 279
        },
        "outputId": "d11e7f12-fdc5-4c4b-df02-d9cdced075b0"
      },
      "source": [
        "plt.scatter(maleHeightlist, maleWeightlist)\n",
        "plt.scatter(femaleHeightlist, femaleWeightlist)\n",
        "plt.xlabel('Height')\n",
        "plt.ylabel('Weight')\n",
        "plt.show()\n",
        "\n"
      ],
      "execution_count": 8,
      "outputs": [
        {
          "output_type": "display_data",
          "data": {
            "image/png": "[encoded data removed]",
            "text/plain": [
              "<Figure size 432x288 with 1 Axes>"
            ]
          },
          "metadata": {
            "tags": [],
            "needs_background": "light"
          }
        }
      ]
    },
    {
      "cell_type": "markdown",
      "metadata": {
        "id": "CHcF6kU37DOw"
      },
      "source": [
        "## 분류하기"
      ]
    },
    {
      "cell_type": "code",
      "metadata": {
        "pycharm": {
          "name": "#%%\n"
        },
        "id": "EaupWrSc1Kq3",
        "colab": {
          "base_uri": "https://localhost:8080/"
        },
        "outputId": "035721c0-4828-47b8-97eb-644cd47b3e19"
      },
      "source": [
        "persion_input = total_df[[\"Height\", \"Weight\"]].to_numpy()\n",
        "print(persion_input[:5])"
      ],
      "execution_count": 9,
      "outputs": [
        {
          "output_type": "stream",
          "text": [
            "[[ 73.84701702 241.89356318]\n",
            " [ 68.78190405 162.31047252]\n",
            " [ 74.11010539 212.74085556]\n",
            " [ 71.7309784  220.0424703 ]\n",
            " [ 69.88179586 206.34980062]]\n"
          ],
          "name": "stdout"
        }
      ]
    },
    {
      "cell_type": "code",
      "metadata": {
        "pycharm": {
          "name": "#%%\n"
        },
        "id": "4Nfx4_i_1Kq4"
      },
      "source": [
        "persion_target = total_df['Gender'].to_numpy()"
      ],
      "execution_count": 10,
      "outputs": []
    },
    {
      "cell_type": "code",
      "metadata": {
        "id": "13kXaxQ43yBe"
      },
      "source": [
        "train_input, test_input, train_target, test_target = train_test_split(persion_input, persion_target, random_state = 200)"
      ],
      "execution_count": 11,
      "outputs": []
    },
    {
      "cell_type": "code",
      "metadata": {
        "id": "5nBIOnfi4l94"
      },
      "source": [
        "ss = StandardScaler()\n",
        "ss.fit(train_input)\n",
        "train_scaled = ss.transform(train_input)\n",
        "test_scaled = ss.transform(test_input)"
      ],
      "execution_count": 12,
      "outputs": []
    },
    {
      "cell_type": "code",
      "metadata": {
        "id": "QnTEcEda46Ld",
        "colab": {
          "base_uri": "https://localhost:8080/"
        },
        "outputId": "70ea30cf-c86a-4a7c-a770-3adb6e1795c3"
      },
      "source": [
        "lr = LogisticRegression()\n",
        "lr.fit(train_input, train_target)\n",
        "print(lr.predict(train_input[:5]))"
      ],
      "execution_count": 13,
      "outputs": [
        {
          "output_type": "stream",
          "text": [
            "['Male' 'Female' 'Female' 'Male' 'Female']\n"
          ],
          "name": "stdout"
        }
      ]
    },
    {
      "cell_type": "code",
      "metadata": {
        "id": "TdclH3IF6LqE",
        "colab": {
          "base_uri": "https://localhost:8080/"
        },
        "outputId": "b3c84cf4-2b9f-422a-c2ff-be64a36c2955"
      },
      "source": [
        "print(lr.predict_proba(train_input[:5]))"
      ],
      "execution_count": 14,
      "outputs": [
        {
          "output_type": "stream",
          "text": [
            "[[2.08911174e-04 9.99791089e-01]\n",
            " [9.01462937e-01 9.85370626e-02]\n",
            " [8.27194481e-01 1.72805519e-01]\n",
            " [2.05784450e-01 7.94215550e-01]\n",
            " [9.98913579e-01 1.08642094e-03]]\n"
          ],
          "name": "stdout"
        }
      ]
    },
    {
      "cell_type": "code",
      "metadata": {
        "id": "WQR0dHvV6Yhy",
        "colab": {
          "base_uri": "https://localhost:8080/"
        },
        "outputId": "91ad2cf7-8b7d-4bef-ae48-86586df8e560"
      },
      "source": [
        "print(lr.coef_, lr.intercept_)"
      ],
      "execution_count": 15,
      "outputs": [
        {
          "output_type": "stream",
          "text": [
            "[[-0.52243303  0.20355045]] [1.83746572]\n"
          ],
          "name": "stdout"
        }
      ]
    },
    {
      "cell_type": "code",
      "metadata": {
        "id": "a18QDAVj5-pM",
        "colab": {
          "base_uri": "https://localhost:8080/"
        },
        "outputId": "08eba389-db7b-4b55-a96a-a9119982f7ab"
      },
      "source": [
        "print(lr.score(test_input, test_target))"
      ],
      "execution_count": 16,
      "outputs": [
        {
          "output_type": "stream",
          "text": [
            "0.9204\n"
          ],
          "name": "stdout"
        }
      ]
    },
    {
      "cell_type": "markdown",
      "metadata": {
        "id": "XKVfl0pblIHh"
      },
      "source": [
        "# 모델 저장하기"
      ]
    },
    {
      "cell_type": "code",
      "metadata": {
        "id": "1TePxuhclFuz"
      },
      "source": [
        "import joblib"
      ],
      "execution_count": 17,
      "outputs": []
    },
    {
      "cell_type": "code",
      "metadata": {
        "id": "QqOwwv0alOt-",
        "outputId": "54f6d681-3016-4928-9fe5-d6169e833068",
        "colab": {
          "base_uri": "https://localhost:8080/"
        }
      },
      "source": [
        "joblib.dump(lr, \"my_model.pkl\")"
      ],
      "execution_count": 18,
      "outputs": [
        {
          "output_type": "execute_result",
          "data": {
            "text/plain": [
              "['my_model.pkl']"
            ]
          },
          "metadata": {
            "tags": []
          },
          "execution_count": 18
        }
      ]
    },
    {
      "cell_type": "code",
      "metadata": {
        "id": "1HQg3BGplWVM"
      },
      "source": [
        "my_model_loaded = joblib.load(\"/content/my_model.pkl\")"
      ],
      "execution_count": 19,
      "outputs": []
    }
  ]
}